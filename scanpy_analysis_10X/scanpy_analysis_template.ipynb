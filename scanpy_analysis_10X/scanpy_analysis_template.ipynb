{
 "cells": [
  {
   "cell_type": "markdown",
   "id": "36b2b438-30da-4ed2-aefd-15a521f257e4",
   "metadata": {},
   "source": [
    "# scanpy 10X single cell RNAseq workbook"
   ]
  },
  {
   "cell_type": "code",
   "execution_count": null,
   "id": "5c6cbf26-1d4e-4b34-960d-1d17e1181948",
   "metadata": {},
   "outputs": [],
   "source": [
    "# Jupyter Notebook cell\n",
    "\n",
    "# In [1]: Install or load required packages:\n",
    "# !pip install scanpy matplotlib seaborn\n",
    "# (You may also install in a conda environment: conda install -c conda-forge scanpy seaborn)\n",
    "\n",
    "import scanpy as sc\n",
    "import matplotlib.pyplot as plt\n",
    "import seaborn as sns\n",
    "import numpy as np"
   ]
  },
  {
   "cell_type": "code",
   "execution_count": null,
   "id": "e8e05191-9aff-4651-8abb-f93f788e74f7",
   "metadata": {},
   "outputs": [],
   "source": [
    "# In [2]: Set up some basic Scanpy configurations and read 10x data\n",
    "\n",
    "# Scanpy settings (adjust as you like)\n",
    "sc.settings.verbosity = 2           # Show info on progress\n",
    "sc.logging.print_header()\n",
    "sc.settings.set_figure_params(dpi=100, facecolor='white')\n",
    "\n",
    "# Path to your 10x filtered_feature_bc_matrix directory\n",
    "data_dir = \"results/cellranger_count/SAMPLE_1/outs/filtered_feature_bc_matrix/\"\n",
    "\n",
    "# Read 10x data (this automatically looks for matrix.mtx.gz, features.tsv.gz, barcodes.tsv.gz)\n",
    "# var_names='gene_symbols' will attempt to load gene names from the second column of features.tsv\n",
    "adata = sc.read_10x_mtx(\n",
    "    data_dir, \n",
    "    var_names='gene_symbols', \n",
    "    make_unique=True\n",
    ")\n",
    "\n",
    "adata.var_names_make_unique()  # Ensures unique gene names\n",
    "\n",
    "print(adata)"
   ]
  },
  {
   "cell_type": "code",
   "execution_count": null,
   "id": "3452af57-386a-4229-be2d-27d49ad87787",
   "metadata": {},
   "outputs": [],
   "source": [
    "# In [3]: Basic QC metrics\n",
    "\n",
    "# Calculate the total counts per cell and number of genes per cell\n",
    "adata.obs['n_counts'] = adata.X.sum(axis=1).A1 if hasattr(adata.X, 'A') else adata.X.sum(axis=1)\n",
    "adata.obs['n_genes'] = (adata.X > 0).sum(axis=1).A1 if hasattr(adata.X, 'A') else (adata.X > 0).sum(axis=1)\n",
    "\n",
    "# Calculate mitochondrial gene percentage\n",
    "# For human data: mitochondrial genes often start with 'MT-'\n",
    "mito_genes = [name for name in adata.var_names if name.startswith('MT-')]\n",
    "# Calculate the fraction of counts in mito genes\n",
    "adata.obs['percent_mt'] = (\n",
    "    adata[:, mito_genes].X.sum(axis=1).A1 / adata.obs['n_counts']\n",
    ") * 100 if len(mito_genes) > 0 else 0\n",
    "\n",
    "# Show violin plots of QC metrics\n",
    "sc.pl.violin(adata, ['n_genes', 'n_counts', 'percent_mt'], jitter=0.4, multi_panel=True)"
   ]
  },
  {
   "cell_type": "code",
   "execution_count": null,
   "id": "e035820d-532d-4834-a786-0535253a99fb",
   "metadata": {},
   "outputs": [],
   "source": [
    "# In [4]: Filter cells and genes\n",
    "\n",
    "# 1) Remove genes not expressed in at least 3 cells\n",
    "sc.pp.filter_genes(adata, min_cells=3)\n",
    "\n",
    "# 2) Remove cells with fewer than 200 detected genes\n",
    "sc.pp.filter_cells(adata, min_genes=200)\n",
    "\n",
    "# 3) Filter out cells with too many genes (possible doublets) or too high mitochondrial ratio\n",
    "#    Adjust thresholds based on your dataset distribution\n",
    "adata = adata[adata.obs['n_genes'] < 2500, :]\n",
    "adata = adata[adata.obs['percent_mt'] < 5, :]\n",
    "\n",
    "print(f\"Remaining cells: {adata.n_obs}, Remaining genes: {adata.n_vars}\")"
   ]
  },
  {
   "cell_type": "code",
   "execution_count": null,
   "id": "b4317544-c0cb-496d-bec7-6d74dade546f",
   "metadata": {},
   "outputs": [],
   "source": [
    "# In [5]: Normalize and log-transform\n",
    "\n",
    "# Normalize each cell by total counts, multiply by 1e4\n",
    "sc.pp.normalize_total(adata, target_sum=1e4)\n",
    "\n",
    "# Log-transform the data\n",
    "sc.pp.log1p(adata)\n",
    "\n",
    "# Identify highly variable genes\n",
    "sc.pp.highly_variable_genes(adata, min_mean=0.0125, max_mean=3, min_disp=0.5)\n",
    "\n",
    "# Keep only highly variable genes for downstream steps\n",
    "adata = adata[:, adata.var['highly_variable']]"
   ]
  },
  {
   "cell_type": "code",
   "execution_count": null,
   "id": "d5832fd1-e3cb-437c-8d03-6f9b9ee255a0",
   "metadata": {},
   "outputs": [],
   "source": [
    "# In [6]: Scale data and run PCA\n",
    "\n",
    "# Scale each gene to unit variance (with max_value to clip large values)\n",
    "sc.pp.scale(adata, max_value=10)\n",
    "\n",
    "# PCA\n",
    "sc.tl.pca(adata, svd_solver='arpack')\n",
    "\n",
    "# Plot the variance ratio to help decide how many PCs to use\n",
    "sc.pl.pca_variance_ratio(adata, log=True)"
   ]
  },
  {
   "cell_type": "code",
   "execution_count": null,
   "id": "fc334069-e0ca-4732-805c-9e9d06c86ebb",
   "metadata": {},
   "outputs": [],
   "source": [
    "# In [7]: Neighbors, clustering, and UMAP\n",
    "\n",
    "# Choose ~10–15 PCs based on the elbow plot\n",
    "n_pcs = 10\n",
    "\n",
    "# Calculate nearest neighbors\n",
    "sc.pp.neighbors(adata, n_neighbors=10, n_pcs=n_pcs)\n",
    "\n",
    "# Compute UMAP\n",
    "sc.tl.umap(adata)\n",
    "\n",
    "# Clustering (Leiden algorithm by default)\n",
    "sc.tl.leiden(adata, resolution=0.5)\n",
    "\n",
    "# UMAP plot colored by cluster\n",
    "sc.pl.umap(adata, color=['leiden'], legend_loc='on data')"
   ]
  },
  {
   "cell_type": "code",
   "execution_count": null,
   "id": "0e43c6ad-565a-4acb-b1ef-7e6ef744c4d6",
   "metadata": {},
   "outputs": [],
   "source": [
    "# In [8]: Visualize QC metrics on UMAP\n",
    "\n",
    "# Sometimes it's helpful to color by total counts or mitochondrial percentage\n",
    "sc.pl.umap(adata, color=['n_counts', 'percent_mt'])"
   ]
  },
  {
   "cell_type": "code",
   "execution_count": null,
   "id": "265ede4b-0c6a-4225-a6b5-a9501ca7093f",
   "metadata": {},
   "outputs": [],
   "source": [
    "# In [9]: Identify marker genes (optional, can be expensive)\n",
    "\n",
    "# If you want to find markers for each cluster:\n",
    "sc.tl.rank_genes_groups(adata, 'leiden', method='wilcoxon')\n",
    "sc.pl.rank_genes_groups(adata, n_genes=5, sharey=False)"
   ]
  },
  {
   "cell_type": "code",
   "execution_count": null,
   "id": "e79bd3f0-4ad4-49f8-831c-e7712dac117d",
   "metadata": {},
   "outputs": [],
   "source": [
    "# In [10]: Summary\n",
    "# We have performed:\n",
    "#   1. QC and filtering\n",
    "#   2. Normalization and log transformation\n",
    "#   3. Identification of highly variable genes\n",
    "#   4. PCA and UMAP\n",
    "#   5. Clustering (Leiden)\n",
    "#   6. Marker gene identification (optional)\n",
    "\n",
    "# Check the final adata object\n",
    "adata"
   ]
  },
  {
   "cell_type": "code",
   "execution_count": null,
   "id": "68e2a2ce-af0d-41df-a6aa-a50ae16959d4",
   "metadata": {},
   "outputs": [],
   "source": [
    "# Save the AnnData object to an .h5ad file\n",
    "adata.write(\"results/processed_sc_data.h5ad\")\n",
    "\n",
    "# To ensure you can load it later, you can test as follows:\n",
    "# import scanpy as sc\n",
    "# adata_loaded = sc.read(\"results/processed_sc_data.h5ad\")\n",
    "# adata_loaded"
   ]
  },
  {
   "cell_type": "markdown",
   "id": "59bc8d7e-834e-4e57-a4ed-d68af8ea0943",
   "metadata": {},
   "source": [
    "Key Steps Recap\n",
    "\n",
    "    Read 10X output (barcodes.tsv.gz, features.tsv.gz, matrix.mtx.gz) into a Scanpy AnnData object.\n",
    "    QC: Filter out low-quality cells and undesired genes:\n",
    "        Minimum #genes per cell, maximum #genes, maximum % mitochondrial reads, etc.\n",
    "    Normalization: sc.pp.normalize_total(…) to ensure each cell has the same total read count.\n",
    "    Log transform: sc.pp.log1p(…).\n",
    "    Find highly variable genes and subset the data to those genes.\n",
    "    Scale the data and run PCA to reduce dimensionality.\n",
    "    Compute nearest neighbors and run UMAP for visualization.\n",
    "    Cluster (Leiden) to identify cell subpopulations.\n",
    "    Identify marker genes per cluster if needed.\n",
    "\n",
    "You can further refine your analysis by:\n",
    "\n",
    "    Trying different mitochondrial or gene-count thresholds.\n",
    "    Using Doublet detection (e.g., scrublet or Scanpy–wrapped methods).\n",
    "    Integrating multiple samples with Scanpy integration tools.\n",
    "    Annotating clusters with known or predicted marker genes for your organism/tissue of interest.\n",
    "\n",
    "With Scanpy, you have a flexible Python-based ecosystem to perform end-to-end single-cell analyses in a Jupyter notebook environment. Enjoy exploring your single-cell RNA-seq data!"
   ]
  }
 ],
 "metadata": {
  "kernelspec": {
   "display_name": "Python3.10 spatial_data2",
   "language": "python",
   "name": "spatial_data2"
  },
  "language_info": {
   "codemirror_mode": {
    "name": "ipython",
    "version": 3
   },
   "file_extension": ".py",
   "mimetype": "text/x-python",
   "name": "python",
   "nbconvert_exporter": "python",
   "pygments_lexer": "ipython3",
   "version": "3.10.16"
  }
 },
 "nbformat": 4,
 "nbformat_minor": 5
}
